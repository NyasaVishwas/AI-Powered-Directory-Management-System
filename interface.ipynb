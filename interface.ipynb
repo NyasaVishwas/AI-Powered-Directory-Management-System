{
 "cells": [
  {
   "cell_type": "code",
   "execution_count": 1,
   "id": "4da20ea5-da64-4493-94c4-e0b253074d38",
   "metadata": {},
   "outputs": [],
   "source": [
    "import os\n",
    "import tkinter as tk\n",
    "from tkinter import filedialog, messagebox, simpledialog, Listbox"
   ]
  },
  {
   "cell_type": "code",
   "execution_count": 4,
   "id": "7949ff76-c698-46a0-91ec-ec7fd7946004",
   "metadata": {},
   "outputs": [],
   "source": [
    "class DirectoryManager:\n",
    "    def __init__(self, root):\n",
    "        self.root = root\n",
    "        self.root.title(\"Simple Directory Manager\")\n",
    "        self.root.geometry(\"500x350\")\n",
    "\n",
    "        # Select Directory\n",
    "        self.selected_dir = tk.StringVar(value=os.getcwd())\n",
    "\n",
    "        tk.Button(root, text=\"Browse Directory\", command=self.browse_directory).pack()\n",
    "        tk.Label(root, textvariable=self.selected_dir, wraplength=400).pack()\n",
    "\n",
    "        # Listbox to show files and folders\n",
    "        self.listbox = Listbox(root, width=60, height=10)\n",
    "        self.listbox.pack()\n",
    "        self.refresh_list()\n",
    "\n",
    "        # Buttons for file & folder operations\n",
    "        tk.Button(root, text=\"Create File\", command=self.create_file).pack()\n",
    "        tk.Button(root, text=\"Create Folder\", command=self.create_folder).pack()\n",
    "        tk.Button(root, text=\"Delete\", command=self.delete_selected).pack()\n",
    "\n",
    "    def browse_directory(self):\n",
    "        dir_path = filedialog.askdirectory()\n",
    "        if dir_path:\n",
    "            self.selected_dir.set(dir_path)\n",
    "            self.refresh_list()\n",
    "\n",
    "    def refresh_list(self):\n",
    "        self.listbox.delete(0, tk.END)\n",
    "        path = self.selected_dir.get()\n",
    "        try:\n",
    "            for item in os.listdir(path):\n",
    "                self.listbox.insert(tk.END, item)\n",
    "        except Exception as e:\n",
    "            messagebox.showerror(\"Error\", str(e))\n",
    "\n",
    "    def create_file(self):\n",
    "        file_name = simpledialog.askstring(\"Create File\", \"Enter file name:\")\n",
    "        if file_name:\n",
    "            file_path = os.path.join(self.selected_dir.get(), file_name)\n",
    "            try:\n",
    "                open(file_path, 'w').close()\n",
    "                self.refresh_list()\n",
    "            except Exception as e:\n",
    "                messagebox.showerror(\"Error\", str(e))\n",
    "\n",
    "    def create_folder(self):\n",
    "        folder_name = simpledialog.askstring(\"Create Folder\", \"Enter folder name:\")\n",
    "        if folder_name:\n",
    "            folder_path = os.path.join(self.selected_dir.get(), folder_name)\n",
    "            try:\n",
    "                os.makedirs(folder_path)\n",
    "                self.refresh_list()\n",
    "            except Exception as e:\n",
    "                messagebox.showerror(\"Error\", str(e))\n",
    "\n",
    "    def delete_selected(self):\n",
    "        selected = self.listbox.curselection()\n",
    "        if not selected:\n",
    "            messagebox.showwarning(\"Warning\", \"No file/folder selected!\")\n",
    "            return\n",
    "        \n",
    "        item_name = self.listbox.get(selected)\n",
    "        item_path = os.path.join(self.selected_dir.get(), item_name)\n",
    "        confirm = messagebox.askyesno(\"Delete\", f\"Delete '{item_name}'?\")\n",
    "        \n",
    "        if confirm:\n",
    "            try:\n",
    "                if os.path.isdir(item_path):\n",
    "                    os.rmdir(item_path)  # Deletes empty folder\n",
    "                else:\n",
    "                    os.remove(item_path)  # Deletes file\n",
    "                self.refresh_list()\n",
    "            except Exception as e:\n",
    "                messagebox.showerror(\"Error\", str(e))"
   ]
  },
  {
   "cell_type": "code",
   "execution_count": 5,
   "id": "3c9731f7-ab8b-4c34-bc5e-6965b1553a76",
   "metadata": {},
   "outputs": [
    {
     "name": "stderr",
     "output_type": "stream",
     "text": [
      "2025-03-22 10:45:28.608 Python[60014:3759237] +[IMKClient subclass]: chose IMKClient_Modern\n",
      "2025-03-22 10:45:28.608 Python[60014:3759237] +[IMKInputSession subclass]: chose IMKInputSession_Modern\n"
     ]
    }
   ],
   "source": [
    "if __name__ == \"__main__\":\n",
    "    root = tk.Tk()\n",
    "    app = DirectoryManager(root)\n",
    "    root.mainloop()"
   ]
  }
 ],
 "metadata": {
  "kernelspec": {
   "display_name": "Python 3 (ipykernel)",
   "language": "python",
   "name": "python3"
  },
  "language_info": {
   "codemirror_mode": {
    "name": "ipython",
    "version": 3
   },
   "file_extension": ".py",
   "mimetype": "text/x-python",
   "name": "python",
   "nbconvert_exporter": "python",
   "pygments_lexer": "ipython3",
   "version": "3.13.1"
  }
 },
 "nbformat": 4,
 "nbformat_minor": 5
}
